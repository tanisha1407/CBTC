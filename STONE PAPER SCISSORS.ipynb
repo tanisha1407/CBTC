{
 "cells": [
  {
   "cell_type": "code",
   "execution_count": 37,
   "id": "4b73723d-926b-4ee0-a70a-4553cbc66461",
   "metadata": {},
   "outputs": [],
   "source": [
    "import random"
   ]
  },
  {
   "cell_type": "code",
   "execution_count": 39,
   "id": "f2b68556-5a34-4f2c-8d5b-6885492e49c3",
   "metadata": {},
   "outputs": [],
   "source": [
    "options=(\"rock\",\"paper\",\"scissors\")\n",
    "running=True"
   ]
  },
  {
   "cell_type": "code",
   "execution_count": null,
   "id": "bffa4b3e-fd02-44f4-a970-e81942db088e",
   "metadata": {},
   "outputs": [
    {
     "name": "stdin",
     "output_type": "stream",
     "text": [
      "ENTER YOUR CHOICE: rock\n"
     ]
    },
    {
     "name": "stdout",
     "output_type": "stream",
     "text": [
      "Player:rock\n",
      "Computer:scissors\n",
      "You win!\n"
     ]
    },
    {
     "name": "stdin",
     "output_type": "stream",
     "text": [
      "Play again? (y/n):  y\n",
      "ENTER YOUR CHOICE: paper\n"
     ]
    },
    {
     "name": "stdout",
     "output_type": "stream",
     "text": [
      "Player:paper\n",
      "Computer:scissors\n",
      "You lose!\n"
     ]
    },
    {
     "name": "stdin",
     "output_type": "stream",
     "text": [
      "Play again? (y/n):  y\n",
      "ENTER YOUR CHOICE: scissors\n"
     ]
    },
    {
     "name": "stdout",
     "output_type": "stream",
     "text": [
      "Player:scissors\n",
      "Computer:scissors\n",
      "It's a tie!\n"
     ]
    }
   ],
   "source": [
    "while running:\n",
    "    player=None\n",
    "    computer=random.choice(options)\n",
    "    while player not in options:\n",
    "        player=input(\"ENTER YOUR CHOICE:\")\n",
    "        print(f\"Player:{player}\")\n",
    "        print(f\"Computer:{computer}\")\n",
    "        if player == computer:\n",
    "          print(\"It's a tie!\")\n",
    "        elif player == \"rock\" and computer == \"scissors\":\n",
    "          print(\"You win!\")\n",
    "        elif player == \"paper\" and computer == \"rock\":\n",
    "          print(\"You win!\")\n",
    "        elif player == \"scissors\" and computer == \"paper\":\n",
    "          print(\"You win!\")\n",
    "        else:\n",
    "          print(\"You lose!\")\n",
    "\n",
    "        if not input(\"Play again? (y/n): \").lower() == \"y\":\n",
    "          running = False \n",
    "          print(\"Thanks for playing!\")"
   ]
  },
  {
   "cell_type": "code",
   "execution_count": null,
   "id": "a0b94820-2362-4501-9d64-cf4a80c01541",
   "metadata": {},
   "outputs": [],
   "source": []
  }
 ],
 "metadata": {
  "kernelspec": {
   "display_name": "Python 3 (ipykernel)",
   "language": "python",
   "name": "python3"
  },
  "language_info": {
   "codemirror_mode": {
    "name": "ipython",
    "version": 3
   },
   "file_extension": ".py",
   "mimetype": "text/x-python",
   "name": "python",
   "nbconvert_exporter": "python",
   "pygments_lexer": "ipython3",
   "version": "3.12.4"
  }
 },
 "nbformat": 4,
 "nbformat_minor": 5
}
